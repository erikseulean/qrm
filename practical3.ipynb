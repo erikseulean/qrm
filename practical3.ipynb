{
 "cells": [
  {
   "cell_type": "code",
   "execution_count": 1,
   "id": "68ede44f",
   "metadata": {},
   "outputs": [
    {
     "name": "stderr",
     "output_type": "stream",
     "text": [
      "Loading required package: tseries\n",
      "\n",
      "Registered S3 method overwritten by 'quantmod':\n",
      "  method            from\n",
      "  as.zoo.data.frame zoo \n",
      "\n",
      "Loading required package: ggplot2\n",
      "\n",
      "Loading required package: zoo\n",
      "\n",
      "\n",
      "Attaching package: ‘zoo’\n",
      "\n",
      "\n",
      "The following objects are masked from ‘package:base’:\n",
      "\n",
      "    as.Date, as.Date.numeric\n",
      "\n",
      "\n",
      "Loading required package: ggfortify\n",
      "\n",
      "Loading required package: gridExtra\n",
      "\n",
      "Loading required package: tidyverse\n",
      "\n",
      "── \u001b[1mAttaching packages\u001b[22m ─────────────────────────────────────────────────────────────── tidyverse 1.3.1 ──\n",
      "\n",
      "\u001b[32m✔\u001b[39m \u001b[34mtibble \u001b[39m 3.1.6     \u001b[32m✔\u001b[39m \u001b[34mdplyr  \u001b[39m 1.0.8\n",
      "\u001b[32m✔\u001b[39m \u001b[34mtidyr  \u001b[39m 1.2.0     \u001b[32m✔\u001b[39m \u001b[34mstringr\u001b[39m 1.4.0\n",
      "\u001b[32m✔\u001b[39m \u001b[34mreadr  \u001b[39m 2.0.2     \u001b[32m✔\u001b[39m \u001b[34mforcats\u001b[39m 0.5.1\n",
      "\u001b[32m✔\u001b[39m \u001b[34mpurrr  \u001b[39m 0.3.4     \n",
      "\n",
      "── \u001b[1mConflicts\u001b[22m ────────────────────────────────────────────────────────────────── tidyverse_conflicts() ──\n",
      "\u001b[31m✖\u001b[39m \u001b[34mdplyr\u001b[39m::\u001b[32mcombine()\u001b[39m masks \u001b[34mgridExtra\u001b[39m::combine()\n",
      "\u001b[31m✖\u001b[39m \u001b[34mdplyr\u001b[39m::\u001b[32mfilter()\u001b[39m  masks \u001b[34mstats\u001b[39m::filter()\n",
      "\u001b[31m✖\u001b[39m \u001b[34mdplyr\u001b[39m::\u001b[32mlag()\u001b[39m     masks \u001b[34mstats\u001b[39m::lag()\n",
      "\n"
     ]
    }
   ],
   "source": [
    "options(warn=-1)\n",
    "require(tseries)\n",
    "require(ggplot2)\n",
    "require(zoo)\n",
    "require(ggfortify)\n",
    "require(gridExtra)\n",
    "require(tidyverse)"
   ]
  },
  {
   "cell_type": "markdown",
   "id": "b4550689",
   "metadata": {},
   "source": [
    "Download using R 251 closing prices for the S&P500 index ending on the 30.12.2008 (the last\n",
    "trading day in 2008). Assume that an investor has invested $ 1,000,000 in this portfolio on the 30.12.2008."
   ]
  },
  {
   "cell_type": "markdown",
   "id": "4ef66390",
   "metadata": {},
   "source": [
    "a) Calculate and plot the discrete returns (in %) for this period. Comment on the plot.\n",
    "\n",
    "b) Using historical simulation, calculate the VaR of the portfolio for h = 1 and h = 10 (as\n",
    "usual α = 0.99).\n",
    "\n",
    "c) Fast forward in time, on the 30.12.2015 the investor is holding a $ 1,000,000-worth portfolio invested in the same index . Again using the past 250 returns, calculate the VaR of the portfolio for h = 1 and h = 10 and α = 0.99. Compare with the results in b)"
   ]
  },
  {
   "cell_type": "code",
   "execution_count": 68,
   "id": "8df92f47",
   "metadata": {},
   "outputs": [],
   "source": [
    "calculate_VaR = function(returns) {\n",
    "    alpha = 0.99\n",
    "    sorted_returns = sort(returns)\n",
    "    index = floor((1 - alpha) * length(sorted_returns))\n",
    "    Rt = sorted_returns[index]\n",
    "    Pt = 10^6\n",
    "    VaR = abs(Rt * Pt)/100\n",
    "    return(VaR)\n",
    "}\n",
    "\n",
    "get_VaR = function(end) {\n",
    "    snp = fortify(na.omit(get.hist.quote(\"^GSPC\", quote=\"Close\", end=end, retclass=\"zoo\")))\n",
    "    snp = tail(snp, n=251)\n",
    "    snp$Returns = c(NA, (snp$Close[-1] - snp$Close[-250])/snp$Close[-250] * 100)\n",
    "    var = calculate_VaR(snp$Returns)\n",
    "    return(data.frame(Date=c(end), VaR=c(var), TenDaysVar=c(sqrt(10)*var)))\n",
    "}"
   ]
  },
  {
   "cell_type": "code",
   "execution_count": 71,
   "id": "5e526559",
   "metadata": {},
   "outputs": [
    {
     "name": "stdout",
     "output_type": "stream",
     "text": [
      "time series ends   2008-12-30\n",
      "time series ends   2015-12-29\n"
     ]
    },
    {
     "data": {
      "text/html": [
       "<table class=\"dataframe\">\n",
       "<caption>A data.frame: 2 × 3</caption>\n",
       "<thead>\n",
       "\t<tr><th scope=col>Date</th><th scope=col>VaR</th><th scope=col>TenDaysVar</th></tr>\n",
       "\t<tr><th scope=col>&lt;chr&gt;</th><th scope=col>&lt;dbl&gt;</th><th scope=col>&lt;dbl&gt;</th></tr>\n",
       "</thead>\n",
       "<tbody>\n",
       "\t<tr><td>2008-12-31</td><td>89295.24</td><td>282376.4</td></tr>\n",
       "\t<tr><td>2015-12-30</td><td>31850.97</td><td>100721.6</td></tr>\n",
       "</tbody>\n",
       "</table>\n"
      ],
      "text/latex": [
       "A data.frame: 2 × 3\n",
       "\\begin{tabular}{lll}\n",
       " Date & VaR & TenDaysVar\\\\\n",
       " <chr> & <dbl> & <dbl>\\\\\n",
       "\\hline\n",
       "\t 2008-12-31 & 89295.24 & 282376.4\\\\\n",
       "\t 2015-12-30 & 31850.97 & 100721.6\\\\\n",
       "\\end{tabular}\n"
      ],
      "text/markdown": [
       "\n",
       "A data.frame: 2 × 3\n",
       "\n",
       "| Date &lt;chr&gt; | VaR &lt;dbl&gt; | TenDaysVar &lt;dbl&gt; |\n",
       "|---|---|---|\n",
       "| 2008-12-31 | 89295.24 | 282376.4 |\n",
       "| 2015-12-30 | 31850.97 | 100721.6 |\n",
       "\n"
      ],
      "text/plain": [
       "  Date       VaR      TenDaysVar\n",
       "1 2008-12-31 89295.24 282376.4  \n",
       "2 2015-12-30 31850.97 100721.6  "
      ]
     },
     "metadata": {},
     "output_type": "display_data"
    }
   ],
   "source": [
    "end = \"2008-12-31\"\n",
    "v = get_VaR(end)\n",
    "end = \"2015-12-30\"\n",
    "rbind(v, get_VaR(end))"
   ]
  },
  {
   "cell_type": "markdown",
   "id": "b0726976",
   "metadata": {},
   "source": [
    "A company holds a portfolio that consists of shares from four DAX (German index) constituents:\n",
    "\n",
    "Stock - Number of shares\n",
    "\n",
    "Siemens - 1000\n",
    "\n",
    "Allianz - 1600\n",
    "\n",
    "SAP - 700\n",
    "\n",
    "BMW - 400"
   ]
  },
  {
   "cell_type": "code",
   "execution_count": 73,
   "id": "202a5e45",
   "metadata": {},
   "outputs": [
    {
     "name": "stdout",
     "output_type": "stream",
     "text": [
      "time series starts 2020-01-02\n",
      "time series ends   2020-12-29\n",
      "time series starts 2020-01-02\n",
      "time series ends   2020-12-29\n",
      "time series starts 2020-01-02\n",
      "time series ends   2020-12-29\n",
      "time series starts 2020-01-02\n",
      "time series ends   2020-12-29\n"
     ]
    }
   ],
   "source": [
    "end = \"2020-12-30\"\n",
    "start = \"2020-01-01\"\n",
    "smns = tail(fortify(na.omit(get.hist.quote(\"SIEGY\", quote=\"Close\", start=start, end=end, retclass=\"zoo\"))), n=251)\n",
    "allnz = tail(fortify(na.omit(get.hist.quote(\"ALV.DE\", quote=\"Close\", start=start, end=end, retclass=\"zoo\"))), n=251)\n",
    "sap = tail(fortify(na.omit(get.hist.quote(\"SAP\", quote=\"Close\", start=start, end=end, retclass=\"zoo\"))), n=251)\n",
    "bmw = tail(fortify(na.omit(get.hist.quote(\"BMW.DE\", quote=\"Close\", start=start, end=end, retclass=\"zoo\"))), n=251)"
   ]
  },
  {
   "cell_type": "code",
   "execution_count": 75,
   "id": "20dd5d33",
   "metadata": {},
   "outputs": [],
   "source": [
    "prices = data.frame(Siemens=smns$Close, Allianz=allnz$Close, SAP=sap$Close, bmw=bmw$Close)"
   ]
  },
  {
   "cell_type": "code",
   "execution_count": 79,
   "id": "90e4d65a",
   "metadata": {},
   "outputs": [],
   "source": [
    "prices$SiemensR = c(NA, (prices$Siemens[-1] - prices$Siemens[-250])/prices$Siemens[-250] * 100)\n",
    "prices$AllianzR = c(NA, (prices$Allianz[-1] - prices$Allianz[-250])/prices$Allianz[-250] * 100)\n",
    "prices$SAPR = c(NA, (prices$SAP[-1] - prices$SAP[-250])/prices$SAP[-250] * 100)\n",
    "prices$BMWR = c(NA, (prices$bmw[-1] - prices$bmw[-250])/prices$bmw[-250] * 100)"
   ]
  },
  {
   "cell_type": "code",
   "execution_count": 84,
   "id": "bdac3a74",
   "metadata": {},
   "outputs": [
    {
     "name": "stderr",
     "output_type": "stream",
     "text": [
      "Loading required package: e1071\n",
      "\n"
     ]
    }
   ],
   "source": [
    "require(e1071)"
   ]
  },
  {
   "cell_type": "code",
   "execution_count": 109,
   "id": "53d3ae02",
   "metadata": {},
   "outputs": [],
   "source": [
    "alpha = c(0.01, 0.05, 0.95, 0.99)\n",
    "q = floor(alpha * length(sorted_returns))"
   ]
  },
  {
   "cell_type": "code",
   "execution_count": 118,
   "id": "f0939b11",
   "metadata": {},
   "outputs": [
    {
     "data": {
      "text/html": [
       "<table class=\"dataframe\">\n",
       "<caption>A data.frame: 4 × 11</caption>\n",
       "<thead>\n",
       "\t<tr><th scope=col>Ticker</th><th scope=col>Mean</th><th scope=col>SD</th><th scope=col>Skewness</th><th scope=col>Kurtosis</th><th scope=col>Q1</th><th scope=col>Q5</th><th scope=col>Q95</th><th scope=col>Q99</th><th scope=col>Min</th><th scope=col>Max</th></tr>\n",
       "\t<tr><th scope=col>&lt;chr&gt;</th><th scope=col>&lt;dbl&gt;</th><th scope=col>&lt;dbl&gt;</th><th scope=col>&lt;dbl&gt;</th><th scope=col>&lt;dbl&gt;</th><th scope=col>&lt;dbl&gt;</th><th scope=col>&lt;dbl&gt;</th><th scope=col>&lt;dbl&gt;</th><th scope=col>&lt;dbl&gt;</th><th scope=col>&lt;dbl&gt;</th><th scope=col>&lt;dbl&gt;</th></tr>\n",
       "</thead>\n",
       "<tbody>\n",
       "\t<tr><td>Siemens</td><td>0.075209828</td><td>2.808110</td><td>-0.71841246</td><td> 4.463539</td><td>-12.142372</td><td>-4.816994</td><td>4.420645</td><td>6.837609</td><td>-12.47525</td><td>11.098892</td></tr>\n",
       "\t<tr><td>Allianz</td><td>0.008825392</td><td>2.746200</td><td> 0.21902093</td><td> 9.592558</td><td> -9.869317</td><td>-3.479237</td><td>3.331482</td><td>8.511627</td><td>-15.32771</td><td>15.803850</td></tr>\n",
       "\t<tr><td>SAP    </td><td>0.024013749</td><td>2.815288</td><td>-2.40180385</td><td>18.631118</td><td>-10.023074</td><td>-4.200690</td><td>3.771755</td><td>6.483506</td><td>-23.15606</td><td> 8.317667</td></tr>\n",
       "\t<tr><td>bmw    </td><td>0.043490904</td><td>2.867554</td><td>-0.02617656</td><td> 5.504235</td><td>-11.734915</td><td>-4.588342</td><td>4.162860</td><td>7.717037</td><td>-12.97137</td><td>14.472367</td></tr>\n",
       "</tbody>\n",
       "</table>\n"
      ],
      "text/latex": [
       "A data.frame: 4 × 11\n",
       "\\begin{tabular}{lllllllllll}\n",
       " Ticker & Mean & SD & Skewness & Kurtosis & Q1 & Q5 & Q95 & Q99 & Min & Max\\\\\n",
       " <chr> & <dbl> & <dbl> & <dbl> & <dbl> & <dbl> & <dbl> & <dbl> & <dbl> & <dbl> & <dbl>\\\\\n",
       "\\hline\n",
       "\t Siemens & 0.075209828 & 2.808110 & -0.71841246 &  4.463539 & -12.142372 & -4.816994 & 4.420645 & 6.837609 & -12.47525 & 11.098892\\\\\n",
       "\t Allianz & 0.008825392 & 2.746200 &  0.21902093 &  9.592558 &  -9.869317 & -3.479237 & 3.331482 & 8.511627 & -15.32771 & 15.803850\\\\\n",
       "\t SAP     & 0.024013749 & 2.815288 & -2.40180385 & 18.631118 & -10.023074 & -4.200690 & 3.771755 & 6.483506 & -23.15606 &  8.317667\\\\\n",
       "\t bmw     & 0.043490904 & 2.867554 & -0.02617656 &  5.504235 & -11.734915 & -4.588342 & 4.162860 & 7.717037 & -12.97137 & 14.472367\\\\\n",
       "\\end{tabular}\n"
      ],
      "text/markdown": [
       "\n",
       "A data.frame: 4 × 11\n",
       "\n",
       "| Ticker &lt;chr&gt; | Mean &lt;dbl&gt; | SD &lt;dbl&gt; | Skewness &lt;dbl&gt; | Kurtosis &lt;dbl&gt; | Q1 &lt;dbl&gt; | Q5 &lt;dbl&gt; | Q95 &lt;dbl&gt; | Q99 &lt;dbl&gt; | Min &lt;dbl&gt; | Max &lt;dbl&gt; |\n",
       "|---|---|---|---|---|---|---|---|---|---|---|\n",
       "| Siemens | 0.075209828 | 2.808110 | -0.71841246 |  4.463539 | -12.142372 | -4.816994 | 4.420645 | 6.837609 | -12.47525 | 11.098892 |\n",
       "| Allianz | 0.008825392 | 2.746200 |  0.21902093 |  9.592558 |  -9.869317 | -3.479237 | 3.331482 | 8.511627 | -15.32771 | 15.803850 |\n",
       "| SAP     | 0.024013749 | 2.815288 | -2.40180385 | 18.631118 | -10.023074 | -4.200690 | 3.771755 | 6.483506 | -23.15606 |  8.317667 |\n",
       "| bmw     | 0.043490904 | 2.867554 | -0.02617656 |  5.504235 | -11.734915 | -4.588342 | 4.162860 | 7.717037 | -12.97137 | 14.472367 |\n",
       "\n"
      ],
      "text/plain": [
       "  Ticker  Mean        SD       Skewness    Kurtosis  Q1         Q5       \n",
       "1 Siemens 0.075209828 2.808110 -0.71841246  4.463539 -12.142372 -4.816994\n",
       "2 Allianz 0.008825392 2.746200  0.21902093  9.592558  -9.869317 -3.479237\n",
       "3 SAP     0.024013749 2.815288 -2.40180385 18.631118 -10.023074 -4.200690\n",
       "4 bmw     0.043490904 2.867554 -0.02617656  5.504235 -11.734915 -4.588342\n",
       "  Q95      Q99      Min       Max      \n",
       "1 4.420645 6.837609 -12.47525 11.098892\n",
       "2 3.331482 8.511627 -15.32771 15.803850\n",
       "3 3.771755 6.483506 -23.15606  8.317667\n",
       "4 4.162860 7.717037 -12.97137 14.472367"
      ]
     },
     "metadata": {},
     "output_type": "display_data"
    }
   ],
   "source": [
    "data.frame(\n",
    "    Ticker=c(\"Siemens\", \"Allianz\", \"SAP\", \"bmw\"),\n",
    "    Mean=c(\n",
    "        mean(prices$SiemensR[-1]),\n",
    "        mean(prices$AllianzR[-1]),\n",
    "        mean(prices$SAPR[-1]),\n",
    "        mean(prices$BMWR[-1])\n",
    "    ),\n",
    "    SD=c(\n",
    "        sd(prices$SiemensR[-1]),\n",
    "        sd(prices$AllianzR[-1]),\n",
    "        sd(prices$SAPR[-1]),\n",
    "        sd(prices$BMWR[-1])\n",
    "    ),\n",
    "    Skewness = c(\n",
    "        skewness(prices$SiemensR[-1]),\n",
    "        skewness(prices$AllianzR[-1]),\n",
    "        skewness(prices$SAPR[-1]),\n",
    "        skewness(prices$BMWR[-1])\n",
    "    ),\n",
    "    Kurtosis = c(\n",
    "        kurtosis(prices$SiemensR[-1]),\n",
    "        kurtosis(prices$AllianzR[-1]),\n",
    "        kurtosis(prices$SAPR[-1]),\n",
    "        kurtosis(prices$BMWR[-1])\n",
    "    ),\n",
    "    \"Q1\"=c(\n",
    "        sort(prices$SiemensR)[q[1]],\n",
    "        sort(prices$AllianzR)[q[1]],\n",
    "        sort(prices$SAPR)[q[1]],\n",
    "        sort(prices$BMWR)[q[1]]\n",
    "    ),\n",
    "    \"Q5\"=c(\n",
    "        sort(prices$SiemensR)[q[2]],\n",
    "        sort(prices$AllianzR)[q[2]],\n",
    "        sort(prices$SAPR)[q[2]],\n",
    "        sort(prices$BMWR)[q[2]]\n",
    "    ),\n",
    "    \"Q95\"=c(\n",
    "        sort(prices$SiemensR)[q[3]],\n",
    "        sort(prices$AllianzR)[q[3]],\n",
    "        sort(prices$SAPR)[q[3]],\n",
    "        sort(prices$BMWR)[q[3]]\n",
    "    ),\n",
    "    \"Q99\"=c(\n",
    "        sort(prices$SiemensR)[q[4]],\n",
    "        sort(prices$AllianzR)[q[4]],\n",
    "        sort(prices$SAPR)[q[4]],\n",
    "        sort(prices$BMWR)[q[4]]\n",
    "    ),\n",
    "    Min=c(\n",
    "        min(prices$SiemensR[-1]),\n",
    "        min(prices$AllianzR[-1]),\n",
    "        min(prices$SAPR[-1]),\n",
    "        min(prices$BMWR[-1])\n",
    "    ),\n",
    "    Max=c(\n",
    "        max(prices$SiemensR[-1]),\n",
    "        max(prices$AllianzR[-1]),\n",
    "        max(prices$SAPR[-1]),\n",
    "        max(prices$BMWR[-1])\n",
    "    )\n",
    ")"
   ]
  },
  {
   "cell_type": "code",
   "execution_count": 125,
   "id": "27f7f39e",
   "metadata": {},
   "outputs": [],
   "source": [
    "get_weights = function(day, prices, shares, share_index) {\n",
    "    total = 0\n",
    "    for(index in seq(1:4)) {\n",
    "        total = total + shares[index] * prices[day, index]\n",
    "    }    \n",
    "    \n",
    "    return (shares[share_index] * prices[day, share_index]/total)\n",
    "}"
   ]
  },
  {
   "cell_type": "code",
   "execution_count": 133,
   "id": "b36980cd",
   "metadata": {
    "scrolled": true
   },
   "outputs": [],
   "source": [
    "m = matrix(nrow=251, ncol=4)\n",
    "shares = c(1000, 1600, 700, 400)\n",
    "for(day in seq(1:251)) {\n",
    "    for(stock in seq(1:4)) {\n",
    "        m[day, stock] = get_weights(day, prices, shares, stock)\n",
    "    }    \n",
    "}"
   ]
  }
 ],
 "metadata": {
  "kernelspec": {
   "display_name": "R",
   "language": "R",
   "name": "ir"
  },
  "language_info": {
   "codemirror_mode": "r",
   "file_extension": ".r",
   "mimetype": "text/x-r-source",
   "name": "R",
   "pygments_lexer": "r",
   "version": "4.1.0"
  }
 },
 "nbformat": 4,
 "nbformat_minor": 5
}
